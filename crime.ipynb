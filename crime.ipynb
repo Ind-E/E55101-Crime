{
 "cells": [
  {
   "cell_type": "code",
   "execution_count": 1,
   "metadata": {},
   "outputs": [],
   "source": [
    "import pandas as pd\n",
    "import requests"
   ]
  },
  {
   "cell_type": "code",
   "execution_count": 2,
   "metadata": {},
   "outputs": [],
   "source": [
    "# national robbery 2012-2022\n",
    "\n",
    "national_url = 'https://api.usa.gov/crime/fbi/cde/nibrs/national/robbery?from=1-2012&type=Counts&to=12-2022&API_KEY=6pQ1XOFvDCRG0DpNsdgIhcyiCmfUafzMzPETHn3K'\n",
    "\n",
    "response = requests.get(national_url)\n",
    "if response.status_code == 200:\n",
    "    national = response.json()\n",
    "else:\n",
    "    print(f\"Error: {response.status_code}\")"
   ]
  },
  {
   "cell_type": "code",
   "execution_count": 17,
   "metadata": {},
   "outputs": [
    {
     "data": {
      "text/plain": [
       "{'Rest Area': 732,\n",
       " 'Cyberspace': 0,\n",
       " 'Restaurant': 57118,\n",
       " 'Field/Woods': 8640,\n",
       " 'Liquor Store': 8745,\n",
       " 'Tribal Lands': 65,\n",
       " 'Bar/Nightclub': 9578,\n",
       " 'Farm Facility': 97,\n",
       " 'Not Specified': 0,\n",
       " 'Other/Unknown': 43827,\n",
       " 'Shopping Mall': 6451,\n",
       " 'Amusement Park': 290,\n",
       " 'Residence/Home': 248894,\n",
       " 'School/College': 1265,\n",
       " 'Camp/Campground': 379,\n",
       " 'Industrial Site': 341,\n",
       " 'Park/Playground': 17848,\n",
       " 'Specialty Store': 46181,\n",
       " 'Community Center': 417,\n",
       " 'Daycare Facility': 116,\n",
       " 'Hotel/Motel/Etc.': 28167,\n",
       " 'Construction Site': 1099,\n",
       " 'Convenience Store': 116176,\n",
       " 'Grocery/Supermarket': 37216,\n",
       " 'Lake/Waterway/Beach': 695,\n",
       " 'Service/Gas Station': 56014,\n",
       " 'Bank/Savings and Loan': 33768,\n",
       " 'Military Installation': 8,\n",
       " 'ATM Separate from Bank': 1312,\n",
       " 'Air/Bus/Train Terminal': 8508,\n",
       " 'Parking/Drop Lot/Garage': 128665,\n",
       " 'Rental Storage Facility': 855,\n",
       " 'Auto Dealership New/Used': 924,\n",
       " 'Shelter-Mission/Homeless': 521,\n",
       " 'Department/Discount Store': 74394,\n",
       " 'School-College/University': 1634,\n",
       " 'Commercial/Office Building': 19170,\n",
       " 'Government/Public Building': 2285,\n",
       " 'School-Elementary/Secondary': 4551,\n",
       " 'Abandoned/Condemned Structure': 635,\n",
       " 'Church/Synagogue/Temple/Mosque': 1705,\n",
       " 'Dock/Wharf/Freight/Modal Terminal': 362,\n",
       " 'Arena/Stadium/Fairgrounds/Coliseum': 249,\n",
       " 'Highway/Road/Alley/Street/Sidewalk': 342379,\n",
       " \"Drug Store/Doctor's Office/Hospital\": 18166,\n",
       " 'Gambling Facility/Casino/Race Track': 2920,\n",
       " 'Jail/Prison/Penitentiary/Corrections Facility': 491}"
      ]
     },
     "execution_count": 17,
     "metadata": {},
     "output_type": "execute_result"
    }
   ],
   "source": [
    "national.get('victim').get('location')"
   ]
  },
  {
   "cell_type": "code",
   "execution_count": null,
   "metadata": {},
   "outputs": [],
   "source": [
    "# Maya - work on most robbed locations by state\n",
    "\n",
    "# california robbery 2012-2022\n",
    "\n",
    "cali_url = 'https://api.usa.gov/crime/fbi/cde/nibrs/state/CA/robbery?from=1-2012&to=12-2022&API_KEY=6pQ1XOFvDCRG0DpNsdgIhcyiCmfUafzMzPETHn3K'"
   ]
  },
  {
   "cell_type": "code",
   "execution_count": null,
   "metadata": {},
   "outputs": [],
   "source": [
    "# Indi - work on robbery rate vs law enforcement employees by year\n",
    "\n",
    "# employees 2012-2022\n",
    "\n",
    "https://api.usa.gov/crime/fbi/cde/pe?from=2012&to=2022&API_KEY=6pQ1XOFvDCRG0DpNsdgIhcyiCmfUafzMzPETHn3K"
   ]
  }
 ],
 "metadata": {
  "kernelspec": {
   "display_name": "ds",
   "language": "python",
   "name": "python3"
  },
  "language_info": {
   "codemirror_mode": {
    "name": "ipython",
    "version": 3
   },
   "file_extension": ".py",
   "mimetype": "text/x-python",
   "name": "python",
   "nbconvert_exporter": "python",
   "pygments_lexer": "ipython3",
   "version": "3.12.5"
  }
 },
 "nbformat": 4,
 "nbformat_minor": 2
}
