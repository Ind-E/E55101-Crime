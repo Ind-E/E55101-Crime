{
 "cells": [
  {
   "cell_type": "code",
   "execution_count": 2,
   "metadata": {},
   "outputs": [],
   "source": [
    "import pandas as pd\n",
    "import requests"
   ]
  },
  {
   "cell_type": "code",
   "execution_count": 4,
   "metadata": {},
   "outputs": [
    {
     "name": "stdout",
     "output_type": "stream",
     "text": [
      "{'bias_section': {'victim_type': {'Other': 342, 'Unknown': 48, 'Business': 1125, 'Government': 766, 'Individual': 13272, 'Society/Public': 273, 'Financial Institution': 4, 'Religious Organization': 300, 'Law Enforcement Officer': 248}, 'offense_type': {'Rape': 17, 'Arson': 60, 'Incest': 0, 'Sodomy': 5, 'Bribery': 1, 'Robbery': 164, 'Wire Fraud': 5, 'Shoplifting': 88, 'Embezzlement': 4, 'Intimidation': 4842, 'Prostitution': 1, 'Impersonation': 7, 'Not Specified': 9, 'Welfare Fraud': 2, 'Identity Theft': 20, 'Pocket-picking': 4, 'Simple Assault': 3259, 'Statutory Rape': 1, 'Purse-snatching': 4, 'Betting/Wagering': 0, 'Sports Tampering': 0, 'All Other Larceny': 445, 'Aggravated Assault': 1652, 'Extortion/Blackmail': 21, 'Motor Vehicle Theft': 50, 'Theft From Building': 70, 'Kidnapping/Abduction': 17, 'Weapon Law Violations': 97, 'Counterfeiting/Forgery': 8, 'Negligent Manslaughter': 0, 'Criminal Sexual Contact': 34, 'Purchasing Prostitution': 0, 'Drug/Narcotic Violations': 112, 'Stolen Property Offenses': 10, 'Theft From Motor Vehicle': 54, 'Drug Equipment Violations': 45, 'Hacking/Computer Invasion': 3, 'Burglary/Breaking & Entering': 169, 'Gambling Equipment Violation': 0, 'Pornography/Obscene Material': 12, 'Sexual Assault With An Object': 5, 'Assisting or Promoting Prostitution': 1, 'Murder and Nonnegligent Manslaughter': 24, 'Human Trafficking, Commercial Sex Acts': 0, 'Operating/Promoting/Assisting Gambling': 0, 'False Pretenses/Swindle/Confidence Game': 35, 'Destruction/Damage/Vandalism of Property': 3635, 'Human Trafficking, Involuntary Servitude': 0, 'Credit Card/Automated Teller Machine Fraud': 14, 'Theft From Coin-Operated Machine or Device': 4, 'Theft of Motor Vehicle Parts or Accessories': 21}, 'location_type': {'Rest Area': 3, 'Cyberspace': 152, 'Restaurant': 353, 'Field/Woods': 77, 'Liquor Store': 32, 'Tribal Lands': 3, 'Bar/Nightclub': 214, 'Farm Facility': 5, 'Not Specified': 0, 'Other/Unknown': 959, 'Shopping Mall': 56, 'Amusement Park': 10, 'Residence/Home': 3370, 'School/College': 132, 'Camp/Campground': 14, 'Industrial Site': 18, 'Park/Playground': 546, 'Specialty Store': 142, 'Community Center': 57, 'Daycare Facility': 5, 'Hotel/Motel/Etc.': 130, 'Construction Site': 56, 'Convenience Store': 197, 'Grocery/Supermarket': 151, 'Lake/Waterway/Beach': 23, 'Service/Gas Station': 158, 'Bank/Savings and Loan': 38, 'Military Installation': 1, 'ATM Separate from Bank': 3, 'Air/Bus/Train Terminal': 235, 'Parking/Drop Lot/Garage': 676, 'Rental Storage Facility': 20, 'Auto Dealership New/Used': 9, 'Shelter-Mission/Homeless': 29, 'Department/Discount Store': 154, 'School-College/University': 383, 'Commercial/Office Building': 297, 'Government/Public Building': 260, 'School-Elementary/Secondary': 1055, 'Abandoned/Condemned Structure': 15, 'Church/Synagogue/Temple/Mosque': 445, 'Dock/Wharf/Freight/Modal Terminal': 9, 'Arena/Stadium/Fairgrounds/Coliseum': 25, 'Highway/Road/Alley/Street/Sidewalk': 2113, \"Drug Store/Doctor's Office/Hospital\": 188, 'Gambling Facility/Casino/Race Track': 9, 'Jail/Prison/Penitentiary/Corrections Facility': 151}, 'offender_race': {'Asian': 177, 'White': 5766, 'Unknown': 2017, 'Multiple': 617, 'Not Specified': 0, 'Black or African American': 2131, 'American Indian or Alaska Native': 74, 'Native Hawaiian or Other Pacific Islander': 36, 'Asian, Native Hawaiian, or Other Pacific Islander': 0}, 'judicial_district': {'Guam': 0, 'Utah': 1, 'Idaho': 1, 'Maine': 2, 'Alaska': 1, 'Hawaii': 0, 'Kansas': 4, 'Nevada': 2, 'Oregon': 3, 'Arizona': 5, 'Montana': 3, 'Vermont': 0, 'Wyoming': 0, 'Colorado': 1, 'Delaware': 1, 'Maryland': 2, 'Nebraska': 0, 'Minnesota': 4, 'New Jersey': 1, 'New Mexico': 0, 'Connecticut': 0, 'Puerto Rico': 0, 'North Dakota': 2, 'Rhode Island': 0, 'South Dakota': 1, 'Iowa Northern': 1, 'Iowa Southern': 1, 'Massachusetts': 3, 'New Hampshire': 0, 'Ohio Northern': 0, 'Ohio Southern': 2, 'Texas Eastern': 0, 'Texas Western': 7, 'Alabama Middle': 0, 'Florida Middle': 4, 'Georgia Middle': 0, 'South Carolina': 2, 'Texas Northern': 1, 'Texas Southern': 0, 'Virgin Islands': 0, 'Alabama Northern': 1, 'Alabama Southern': 0, 'Arkansas Eastern': 0, 'Arkansas Western': 0, 'Florida Northern': 1, 'Florida Southern': 4, 'Georgia Northern': 1, 'Georgia Southern': 1, 'Illinois Central': 0, 'Indiana Northern': 0, 'Indiana Southern': 0, 'Kentucky Eastern': 0, 'Kentucky Western': 2, 'Louisiana Middle': 0, 'Michigan Eastern': 6, 'Michigan Western': 1, 'Missouri Eastern': 2, 'Missouri Western': 0, 'New York Eastern': 1, 'New York Western': 0, 'Oklahoma Eastern': 0, 'Oklahoma Western': 1, 'Tennessee Middle': 0, 'Virginia Eastern': 1, 'Virginia Western': 0, 'Illinois Northern': 2, 'Illinois Southern': 1, 'Louisiana Eastern': 0, 'Louisiana Western': 1, 'New York Northern': 1, 'New York Southern': 3, 'Oklahoma Northern': 0, 'Tennessee Eastern': 1, 'Tennessee Western': 0, 'Wisconsin Eastern': 0, 'Wisconsin Western': 0, 'California Central': 3, 'California Eastern': 2, 'Washington Eastern': 1, 'Washington Western': 2, 'California Northern': 5, 'California Southern': 1, 'Pennsylvania Middle': 1, 'District of Columbia': 6, 'Mississippi Northern': 0, 'Mississippi Southern': 0, 'Pennsylvania Eastern': 4, 'Pennsylvania Western': 4, 'North Carolina Middle': 0, 'North Carolina Eastern': 0, 'North Carolina Western': 1, 'West Virginia Northern': 0, 'West Virginia Southern': 0, 'Northern Mariana Islands': 0}, 'offender_ethnicity': {'Unknown': 2711, 'Multiple': 727, 'Not Specified': 2561, 'Hispanic or Latino': 797, 'Not Hispanic or Latino': 4022}}, 'incident_section': {'bias': {'Anti-Arab': 150, 'Anti-Male': 32, 'Anti-Sikh': 181, 'Anti-Asian': 483, 'Anti-Hindu': 30, 'Anti-White': 952, 'Anti-Female': 111, 'Anti-Jewish': 1630, 'Anti-Bisexual': 53, 'Anti-Buddhist': 18, 'Anti-Catholic': 88, 'Anti-Gay (Male)': 1215, 'Anti-Protestant': 34, 'Anti-Transgender': 410, 'Anti-Heterosexual': 21, 'Anti-Other Religion': 109, 'Anti-Other Christian': 86, 'Anti-Islamic (Muslim)': 238, 'Anti-Lesbian (Female)': 207, \"Anti-Jehovah's Witness\": 18, 'Anti-Mental Disability': 129, 'Anti-Hispanic or Latino': 931, 'Anti-Atheism/Agnosticism': 21, 'Anti-Physical Disability': 99, 'Anti-Gender Non-Conforming': 158, 'Anti-Multiple Races, Group': 250, 'Anti-Church of Jesus Christ': 21, 'Anti-Black or African American': 3572, 'Anti-Multiple Religions, Group': 39, 'Anti-Other Race/Ethnicity/Ancestry': 434, 'Anti-American Indian or Alaska Native': 130, 'Anti-Eastern Orthodox (Russian, Greek, Other)': 72, 'Anti-Native Hawaiian or Other Pacific Islander': 19, 'Anti-Lesbian, Gay, Bisexual, or Transgender (Mixed Group)': 1011}, 'bias_category': {'Gender': 143, 'Religion': 2585, 'Disability': 228, 'Gender Identity': 568, 'Sexual Orientation': 2507, 'Race/Ethnicity/Ancestry': 6921}}, 'last_refresh_date': {'UCR': '4/9/2024'}}\n"
     ]
    }
   ],
   "source": [
    "url = 'https://api.usa.gov/crime/fbi/cde/hate-crime/national?from=10-2022&to=10-2023&type=rates&API_KEY=6pQ1XOFvDCRG0DpNsdgIhcyiCmfUafzMzPETHn3K'\n",
    "\n",
    "response = requests.get(url)\n",
    "\n",
    "if response.status_code == 200:\n",
    "    data = response.json()\n",
    "    print(data)\n",
    "else:\n",
    "    print(f\"Error: {response.status_code}\")"
   ]
  }
 ],
 "metadata": {
  "kernelspec": {
   "display_name": "ds",
   "language": "python",
   "name": "python3"
  },
  "language_info": {
   "codemirror_mode": {
    "name": "ipython",
    "version": 3
   },
   "file_extension": ".py",
   "mimetype": "text/x-python",
   "name": "python",
   "nbconvert_exporter": "python",
   "pygments_lexer": "ipython3",
   "version": "3.12.5"
  }
 },
 "nbformat": 4,
 "nbformat_minor": 2
}
